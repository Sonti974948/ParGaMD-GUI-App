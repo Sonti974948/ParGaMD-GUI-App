{
 "cells": [
  {
   "cell_type": "code",
   "execution_count": 1,
   "id": "98478517-6c53-4d4e-8e10-6df1a5245791",
   "metadata": {},
   "outputs": [],
   "source": [
    "import numpy as np\n",
    "import seaborn as sns\n",
    "import matplotlib.pyplot as plt\n",
    "from matplotlib.colors import LinearSegmentedColormap\n",
    "from matplotlib import cm\n",
    "from matplotlib.colors import BoundaryNorm\n",
    "import seaborn as sns\n",
    "import matplotlib\n",
    "from pylab import *\n",
    "from matplotlib.animation import FuncAnimation"
   ]
  },
  {
   "cell_type": "code",
   "execution_count": 2,
   "id": "0e58166c-e52c-455d-ab87-1078471f12b0",
   "metadata": {},
   "outputs": [],
   "source": [
    "# ----------------------------- Set up Figure Styles ------------------------- #\n",
    "aw = 2\n",
    "fs = 16\n",
    "font = {'size': fs}\n",
    "matplotlib.rc('font', **font)\n",
    "matplotlib.rc('axes', linewidth=aw)\n",
    "\n",
    "\n",
    "def set_fig_properties(ax_list,panel_color_str='black',line_width = 2):\n",
    "    tl = 10\n",
    "    tw = 2\n",
    "    tlm = 6\n",
    "\n",
    "    for ax in ax_list:\n",
    "        ax.tick_params(which='major', length=tl, width=tw)\n",
    "        ax.tick_params(which='minor', length=tlm, width=tw)\n",
    "        ax.tick_params(which='both', axis='both', direction='in',\n",
    "                       right=False, top=False)\n",
    "        ax.spines['bottom'].set_color(panel_color_str)\n",
    "        ax.spines['top'].set_color(panel_color_str)\n",
    "        ax.spines['left'].set_color(panel_color_str)\n",
    "        ax.spines['right'].set_color(panel_color_str)\n",
    "\n",
    "        ax.spines['bottom'].set_linewidth(line_width)\n",
    "        ax.spines['top'].set_linewidth(line_width)\n",
    "        ax.spines['left'].set_linewidth(line_width)\n",
    "        ax.spines['right'].set_linewidth(line_width)\n",
    "\n",
    "        for t in ax.xaxis.get_ticklines(): t.set_color(panel_color_str)\n",
    "        for t in ax.yaxis.get_ticklines(): t.set_color(panel_color_str)\n",
    "        for t in ax.xaxis.get_ticklines(): t.set_linewidth(line_width)\n",
    "        for t in ax.yaxis.get_ticklines(): t.set_linewidth(line_width)"
   ]
  },
  {
   "cell_type": "code",
   "execution_count": 6,
   "id": "49f1144a-2183-4dba-8159-090672683c81",
   "metadata": {},
   "outputs": [],
   "source": [
    "pmf_MC2=np.loadtxt('ParGaMD_48GPU_500_MC10_run2.xvg',comments=['#','@'],delimiter='\\t')"
   ]
  },
  {
   "cell_type": "code",
   "execution_count": 7,
   "id": "599635eb-8855-4584-acd9-1adadff35bf5",
   "metadata": {},
   "outputs": [],
   "source": [
    "PC1_MC2=pmf_MC2[:,0]\n",
    "PC2_MC2=pmf_MC2[:,1]\n",
    "FE_MC2=pmf_MC2[:,2]"
   ]
  },
  {
   "cell_type": "code",
   "execution_count": 8,
   "id": "5a7df484-f90b-4628-8ac3-4d87bbdbe860",
   "metadata": {},
   "outputs": [],
   "source": [
    "levels_mc = np.concatenate([np.linspace(0,5,100), np.linspace(6,1000, 1)])\n",
    "norm_mc = BoundaryNorm(boundaries=levels_mc, ncolors=plt.cm.jet.N, clip=True)"
   ]
  },
  {
   "cell_type": "code",
   "execution_count": null,
   "id": "ae1aa33f-d87e-4a29-855e-1c7422653328",
   "metadata": {},
   "outputs": [],
   "source": [
    "contour_mc=plt.tricontourf(PC1_MC2,PC2_MC2,FE_MC2,levels=levels_mc, cmap='jet', norm=norm_mc)\n",
    "contour_lines = plt.tricontour(PC1_MC2,PC2_MC2,FE_MC2, levels=np.linspace(0,5,10), colors='black', linewidths=0.5)\n",
    "#plt.tricontour(pc1_mc,pc2_mc,fe_mc,colors='k')\n",
    "cbar=plt.colorbar(contour_mc)\n",
    "plt.xlabel('RMSD ($/AA$)',fontsize=12)\n",
    "plt.ylabel('Radius of Gyration ($\\AA',fontsize=10)\n",
    "plt.xlim(0,9)\n",
    "plt.ylim(3,10)\n",
    "plt.title('ParGaMD - 2.1 $\\mu$s ',fontsize=15)\n",
    "cbar_ticks = np.linspace(0,5,12)\n",
    "cbar.set_ticks(cbar_ticks)\n",
    "cbar.set_label('Free Energy (kcal/mol)',fontsize=12,labelpad=10)\n",
    "cbar.ax.set_yticklabels([f'{tick:.1f}' for tick in cbar_ticks])\n",
    "# plt.savefig('Paper_pics/GaMD/GaMD_MC10_run3.png',dpi=300,bbox_inches='tight')"
   ]
  }
 ],
 "metadata": {
  "kernelspec": {
   "display_name": "Python 3 (ipykernel)",
   "language": "python",
   "name": "python3"
  },
  "language_info": {
   "codemirror_mode": {
    "name": "ipython",
    "version": 3
   },
   "file_extension": ".py",
   "mimetype": "text/x-python",
   "name": "python",
   "nbconvert_exporter": "python",
   "pygments_lexer": "ipython3",
   "version": "3.12.3"
  }
 },
 "nbformat": 4,
 "nbformat_minor": 5
}
